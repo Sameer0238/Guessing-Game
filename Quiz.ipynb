{
 "cells": [
  {
   "cell_type": "code",
   "execution_count": null,
   "id": "64f519b4",
   "metadata": {
    "vscode": {
     "languageId": "plaintext"
    }
   },
   "outputs": [],
   "source": [
    "score = 0\n",
    "\n",
    "print(\"Welcome to the Python Quiz! ✨\")\n",
    "\n",
    "# Q1\n",
    "answer = input(\"Q1: What keyword is used to define a function in Python? \").lower()\n",
    "if answer == \"def\":\n",
    "    print(\"Correct!\")\n",
    "    score += 1\n",
    "else:\n",
    "    print(\" Wrong. Correct answer: def\")\n",
    "\n",
    "# Q2\n",
    "answer = input(\"Q2: What is the output of 2 ** 3? \")\n",
    "if answer == \"8\":\n",
    "    print(\" Correct!\")\n",
    "    score += 1\n",
    "else:\n",
    "    print(\"Wrong. Correct answer: 8\")\n",
    "\n",
    "# Q3\n",
    "answer = input(\"Q3: Which data type is immutable: list or tuple? \").lower()\n",
    "if answer == \"tuple\":\n",
    "    print(\"Correct!\")\n",
    "    score += 1\n",
    "else:\n",
    "    print(\"Wrong. Correct answer: tuple\")\n",
    "\n",
    "print(f\"🏁 Game Over! You scored {score}/3\")"
   ]
  }
 ],
 "metadata": {
  "language_info": {
   "name": "python"
  }
 },
 "nbformat": 4,
 "nbformat_minor": 5
}
